{
 "cells": [
  {
   "cell_type": "code",
   "execution_count": null,
   "id": "d10a2db5",
   "metadata": {},
   "outputs": [],
   "source": [
    "import pandas as pd\n",
    "import numpy as np\n",
    "import pickle\n",
    "import logging\n",
    "import math\n",
    "\n",
    "from app.data_engineering.data_access import read_db\n",
    "from app.data_engineering.feature_engineering import FeatureEngineering\n",
    "\n",
    "import seaborn as sns\n",
    "import plotly.express as px\n",
    "import plotly.graph_objects as go\n",
    "from plotly.subplots import make_subplots\n",
    "\n",
    "# To plot pretty figures\n",
    "%matplotlib inline\n",
    "import matplotlib.pyplot as plt\n",
    "plt.rcParams['axes.labelsize'] = 14\n",
    "plt.rcParams['xtick.labelsize'] = 12\n",
    "plt.rcParams['ytick.labelsize'] = 12\n",
    "\n",
    "pd.set_option('display.max_rows', 1000)\n",
    "pd.set_option('display.max_columns', 500)\n",
    "pd.set_option('display.width', 1000)"
   ]
  },
  {
   "cell_type": "code",
   "execution_count": null,
   "id": "7acba920",
   "metadata": {},
   "outputs": [],
   "source": [
    "datasets = read_db()"
   ]
  },
  {
   "cell_type": "code",
   "execution_count": null,
   "id": "e32f8818",
   "metadata": {},
   "outputs": [],
   "source": [
    "datasets.keys()"
   ]
  },
  {
   "cell_type": "code",
   "execution_count": null,
   "id": "a4499436",
   "metadata": {},
   "outputs": [],
   "source": [
    "df_batch1 = datasets['batch1']\n",
    "df_batch2 = datasets['batch2']\n",
    "df_test_vols = datasets['test']['vols']"
   ]
  },
  {
   "cell_type": "code",
   "execution_count": null,
   "id": "eb75fd05",
   "metadata": {
    "scrolled": true
   },
   "outputs": [],
   "source": [
    "FEATURES = df_test_vols.columns.tolist()"
   ]
  },
  {
   "cell_type": "code",
   "execution_count": null,
   "id": "a6a1d5ac",
   "metadata": {},
   "outputs": [],
   "source": [
    "LABELS = list(set(df_batch1['vols'].columns.tolist()) - set(df_test_vols.columns.tolist()))"
   ]
  },
  {
   "cell_type": "code",
   "execution_count": null,
   "id": "9cae22cc",
   "metadata": {},
   "outputs": [],
   "source": [
    "label = \"RETARD A L'ARRIVEE\""
   ]
  },
  {
   "cell_type": "code",
   "execution_count": null,
   "id": "e1b30095",
   "metadata": {},
   "outputs": [],
   "source": [
    "COLUMNS = FEATURES + [label]"
   ]
  },
  {
   "cell_type": "markdown",
   "id": "215b4925",
   "metadata": {},
   "source": [
    "## df_batch1 & df_batch2"
   ]
  },
  {
   "cell_type": "code",
   "execution_count": null,
   "id": "3d2601ff",
   "metadata": {
    "scrolled": true
   },
   "outputs": [],
   "source": [
    "df_batch1.keys()"
   ]
  },
  {
   "cell_type": "code",
   "execution_count": null,
   "id": "55ad8150",
   "metadata": {},
   "outputs": [],
   "source": [
    "#df_batch1['vols'].loc[:, 'DATE'] = pd.to_datetime(df_batch1['vols']['DATE'])\n",
    "#df_batch2['vols'].loc[:, 'DATE'] = pd.to_datetime(df_batch2['vols']['DATE'])"
   ]
  },
  {
   "cell_type": "code",
   "execution_count": null,
   "id": "c4cc343b",
   "metadata": {},
   "outputs": [],
   "source": [
    "#df_vol1 = df_batch1['vols']\n",
    "#df_vol2 = df_batch2['vols']"
   ]
  },
  {
   "cell_type": "code",
   "execution_count": null,
   "id": "c9ca2a93",
   "metadata": {},
   "outputs": [],
   "source": [
    "#df_vol1.to_csv('../data/batch_1_vol.csv', index=False)\n",
    "#df_vol2.to_csv('../data/batch_2_vol.csv', index=False)"
   ]
  },
  {
   "cell_type": "code",
   "execution_count": null,
   "id": "3db73f35",
   "metadata": {},
   "outputs": [],
   "source": [
    "df_vol1 = pd.read_csv('../data/batch_1_vol.csv')\n",
    "df_vol2 = pd.read_csv('../data/batch_2_vol.csv')"
   ]
  },
  {
   "cell_type": "code",
   "execution_count": null,
   "id": "e412a147",
   "metadata": {},
   "outputs": [],
   "source": [
    "df_vols = pd.concat([df_vol1, df_vol2])"
   ]
  },
  {
   "cell_type": "markdown",
   "id": "5f99cc86",
   "metadata": {},
   "source": [
    "### Vols"
   ]
  },
  {
   "cell_type": "code",
   "execution_count": null,
   "id": "83e1a2cf",
   "metadata": {},
   "outputs": [],
   "source": [
    "# remove already handle line\n",
    "df_vols = df_vols.dropna(\n",
    "    subset=[\"TEMPS DE DEPLACEMENT A TERRE A L'ATTERRISSAGE\", \n",
    "            \"TEMPS DE DEPLACEMENT A TERRE AU DECOLLAGE\",\n",
    "            \"RETARD A L'ARRIVEE\"]\n",
    ")"
   ]
  },
  {
   "cell_type": "code",
   "execution_count": null,
   "id": "63b439ad",
   "metadata": {},
   "outputs": [],
   "source": [
    "df_vols"
   ]
  },
  {
   "cell_type": "code",
   "execution_count": null,
   "id": "341505ea",
   "metadata": {},
   "outputs": [],
   "source": [
    "#    def fill_temps_de_deplacement_annulation(self, df):\n",
    "#        df.loc[df['ANNULATION']==1, [\n",
    "#            \"TEMPS DE DEPLACEMENT A TERRE AU DECOLLAGE\", \n",
    "#            \"TEMPS DE DEPLACEMENT A TERRE A L'ATTERRISSAGE\", \"RETARD A L'ARRIVEE\"]] = 999\n",
    "#        df.loc[(df[\"DETOURNEMENT\"]==1) & (df[\"TEMPS DE DEPLACEMENT A TERRE A L'ATTERRISSAGE\"].isna()), [\n",
    "#            \"TEMPS DE DEPLACEMENT A TERRE A L'ATTERRISSAGE\", \"RETARD A L'ARRIVEE\"]] = 999\n",
    "\n",
    "class DataCleaning:\n",
    "    def __init__(self, features_columns, label):\n",
    "        self.features_columns = features_columns\n",
    "        self.label = label\n",
    "        self.cie_by_avion = None\n",
    "\n",
    "    def remove_unused_columns(self, df):\n",
    "        if 'NIVEAU DE SECURITE' in df.columns:\n",
    "            df = df.drop(columns=['NIVEAU DE SECURITE'])\n",
    "        return df\n",
    "\n",
    "    def cleaning(self, df):\n",
    "        df = df.dropna(subset=self.features_columns)\n",
    "        if self.label in df.columns:\n",
    "            df = df.dropna(subset=[self.label])\n",
    "        return df\n",
    "    \n",
    "    def fill_na(self, df):\n",
    "        if self.cie_by_avion is None:\n",
    "            self.cie_by_avion = df[['CODE AVION', 'COMPAGNIE AERIENNE']].dropna().groupby(\n",
    "                by=['CODE AVION']).first().to_dict()['COMPAGNIE AERIENNE']\n",
    "        \n",
    "        df.loc[df['COMPAGNIE AERIENNE'].isna(), 'COMPAGNIE AERIENNE'] = df.loc[\n",
    "            df['COMPAGNIE AERIENNE'].isna(), 'CODE AVION'].apply(\n",
    "                lambda x: self.cie_by_avion.get(x, \"UKN\")\n",
    "            )\n",
    "        return df\n",
    "    \n",
    "    def transform(self, df):\n",
    "        df = df.copy()\n",
    "        df = self.fill_na(df)\n",
    "        #df = self.cleaning(df)\n",
    "        #df = self.remove_unused_columns(df)\n",
    "        #df.loc[:, 'DATE'] = pd.to_datetime(df['DATE'])\n",
    "        return df\n"
   ]
  },
  {
   "cell_type": "code",
   "execution_count": null,
   "id": "70e0f83c",
   "metadata": {},
   "outputs": [],
   "source": [
    "data_cleaning = DataCleaning(features_columns=FEATURES, label=label)\n",
    "df_vols_cleaned = data_cleaning.transform(df_vols)"
   ]
  },
  {
   "cell_type": "code",
   "execution_count": null,
   "id": "ae9b0b76",
   "metadata": {},
   "outputs": [],
   "source": [
    "display(df_vols_cleaned.head(30))\n",
    "display(df_vols_cleaned.shape)"
   ]
  },
  {
   "cell_type": "code",
   "execution_count": null,
   "id": "776cad49",
   "metadata": {},
   "outputs": [],
   "source": [
    "df_vols_cleaned[COLUMNS].info(show_counts=True) "
   ]
  },
  {
   "cell_type": "code",
   "execution_count": null,
   "id": "4bb72f1c",
   "metadata": {},
   "outputs": [],
   "source": [
    "df_vols_cleaned[COLUMNS].nunique()"
   ]
  },
  {
   "cell_type": "markdown",
   "id": "850478b6",
   "metadata": {},
   "source": [
    "### Dataviz for vols batch 1 and 2"
   ]
  },
  {
   "cell_type": "code",
   "execution_count": null,
   "id": "7d93a590",
   "metadata": {},
   "outputs": [],
   "source": [
    "df_vols_eng = df_vols_cleaned.copy()"
   ]
  },
  {
   "cell_type": "code",
   "execution_count": null,
   "id": "9e569a1d",
   "metadata": {},
   "outputs": [],
   "source": [
    "df_vols_eng['TEMPS DE DEPLACEMENT A TERRE AU DECOLLAGE'] = df_vols_eng['TEMPS DE DEPLACEMENT A TERRE AU DECOLLAGE'].apply(lambda x: math.sqrt(x))\n",
    "df_vols_eng[\"TEMPS DE DEPLACEMENT A TERRE A L'ATTERRISSAGE\"] = df_vols_eng[\"TEMPS DE DEPLACEMENT A TERRE A L'ATTERRISSAGE\"].apply(lambda x: math.sqrt(x))\n",
    "df_vols_eng = df_vols_eng[df_vols_eng['NOMBRE DE PASSAGERS']<1000] \n",
    "df_vols_eng = df_vols_eng[df_vols_eng[\"RETARD A L'ARRIVEE\"]<150] #ou bien \n",
    "#df_vols_eng.loc[df_vols_eng[\"RETARD A L'ARRIVEE\"]>500, \"RETARD A L'ARRIVEE\"] = 501\n",
    "\n"
   ]
  },
  {
   "cell_type": "code",
   "execution_count": null,
   "id": "23ffb44e",
   "metadata": {
    "scrolled": false
   },
   "outputs": [],
   "source": [
    "for column in ['AEROPORT DEPART',\n",
    "                'AEROPORT ARRIVEE',\n",
    "                'DEPART PROGRAMME',\n",
    "                'ARRIVEE PROGRAMMEE',\n",
    "                'TEMPS PROGRAMME',\n",
    "                'TEMPS DE DEPLACEMENT A TERRE AU DECOLLAGE',\n",
    "                \"TEMPS DE DEPLACEMENT A TERRE A L'ATTERRISSAGE\",\n",
    "                'DISTANCE',\n",
    "                'COMPAGNIE AERIENNE',\n",
    "                'NOMBRE DE PASSAGERS',\n",
    "                'DATE',\n",
    "                \"RETARD A L'ARRIVEE\"]:\n",
    "    #fig = px.histogram(df_vols_cleaned, x=column, nbins=min(200, df_vols_cleaned[column].nunique()))\n",
    "    #fig.show()\n",
    "    print(column)\n",
    "    df_vols_eng[column].hist(figsize=(15,8), bins=100)\n",
    "    plt.show();"
   ]
  },
  {
   "cell_type": "code",
   "execution_count": null,
   "id": "db1b870b",
   "metadata": {},
   "outputs": [],
   "source": [
    "df_vols_cleaned[df_vols_cleaned['TEMPS DE DEPLACEMENT A TERRE AU DECOLLAGE']>150].head()[COLUMNS]"
   ]
  },
  {
   "cell_type": "code",
   "execution_count": null,
   "id": "35eb36ad",
   "metadata": {
    "scrolled": false
   },
   "outputs": [],
   "source": [
    "df_vols_cleaned[\"TEMPS A TERRE\"] = df_vols_cleaned['TEMPS DE DEPLACEMENT A TERRE AU DECOLLAGE'] +\\\n",
    "    df_vols_cleaned[\"TEMPS DE DEPLACEMENT A TERRE A L'ATTERRISSAGE\"]\n",
    "df_vols_cleaned_smaller = df_vols_cleaned.sample(frac=0.1)\n",
    "\n",
    "for column in ['AEROPORT DEPART',\n",
    "                'AEROPORT ARRIVEE',\n",
    "                'DEPART PROGRAMME',\n",
    "                'ARRIVEE PROGRAMMEE',\n",
    "                'TEMPS PROGRAMME',\n",
    "                'TEMPS DE DEPLACEMENT A TERRE AU DECOLLAGE',\n",
    "                \"TEMPS DE DEPLACEMENT A TERRE A L'ATTERRISSAGE\",\n",
    "                \"TEMPS A TERRE\",\n",
    "                'DISTANCE',\n",
    "                'COMPAGNIE AERIENNE',\n",
    "                'NOMBRE DE PASSAGERS',\n",
    "                'DATE',]:\n",
    "    plt.close()\n",
    "    fig = plt.figure(figsize=(12,8))\n",
    "    ax = plt.axes()\n",
    "\n",
    "    plt.rcParams.update({'font.size': 15})\n",
    "\n",
    "    plt.scatter(df_vols_cleaned_smaller[column], df_vols_cleaned_smaller[\"RETARD A L'ARRIVEE\"],\n",
    "             c='#FF0000')\n",
    "\n",
    "    plt.title(f\"RETARD A L'ARRIVEE par {column}\", size=20, color=\"#000070\")\n",
    "\n",
    "    # Titres des axes\n",
    "    ax = ax.set(xlabel=column, ylabel=\"RETARD A L'ARRIVEE\")\n",
    "    plt.show()"
   ]
  },
  {
   "cell_type": "code",
   "execution_count": null,
   "id": "8321990e",
   "metadata": {},
   "outputs": [],
   "source": []
  },
  {
   "cell_type": "code",
   "execution_count": null,
   "id": "5d0a8174",
   "metadata": {},
   "outputs": [],
   "source": []
  },
  {
   "cell_type": "code",
   "execution_count": null,
   "id": "f8d285c0",
   "metadata": {},
   "outputs": [],
   "source": []
  },
  {
   "cell_type": "markdown",
   "id": "5808514a",
   "metadata": {},
   "source": [
    "### Aeroports"
   ]
  },
  {
   "cell_type": "code",
   "execution_count": null,
   "id": "44a3a9c8",
   "metadata": {
    "scrolled": true
   },
   "outputs": [],
   "source": [
    "df_aeroports = pd.concat([df_batch1['aeroports'], df_batch2['aeroports']])\n",
    "df_aeroports.drop_duplicates(inplace = True)\n",
    "\n",
    "duplicate_airport = df_aeroports.loc[\n",
    "    df_aeroports.duplicated(subset=['CODE IATA'], keep=False),\n",
    "    ['CODE IATA', 'PRIX RETARD PREMIERE 20 MINUTES', 'PRIS RETARD POUR CHAQUE MINUTE APRES 10 MINUTES']].groupby(\n",
    "    by=['CODE IATA']).mean().to_dict(orient='index')\n",
    "\n",
    "df_aeroports.drop_duplicates(inplace = True, subset=['CODE IATA'])\n",
    "df_aeroports[df_aeroports['CODE IATA']=='JNB'] # => duplicate on JNB if no subset"
   ]
  },
  {
   "cell_type": "code",
   "execution_count": null,
   "id": "bbb466d1",
   "metadata": {},
   "outputs": [],
   "source": [
    "for code_iata in duplicate_airport.keys():\n",
    "    df_aeroports.loc[\n",
    "        df_aeroports['CODE IATA']==code_iata,\n",
    "        ['PRIX RETARD PREMIERE 20 MINUTES']\n",
    "    ] = df_aeroports.loc[\n",
    "        df_aeroports['CODE IATA']==code_iata,\n",
    "        ['PRIX RETARD PREMIERE 20 MINUTES']\n",
    "    ].apply(lambda x: duplicate_airport[code_iata]['PRIX RETARD PREMIERE 20 MINUTES'], axis=1)\n",
    "    \n",
    "    df_aeroports.loc[\n",
    "        df_aeroports['CODE IATA']==code_iata,\n",
    "        ['PRIS RETARD POUR CHAQUE MINUTE APRES 10 MINUTES']\n",
    "    ] = df_aeroports.loc[\n",
    "        df_aeroports['CODE IATA']==code_iata,\n",
    "        ['PRIS RETARD POUR CHAQUE MINUTE APRES 10 MINUTES']\n",
    "    ].apply(lambda x: duplicate_airport[code_iata]['PRIS RETARD POUR CHAQUE MINUTE APRES 10 MINUTES'], axis=1)"
   ]
  },
  {
   "cell_type": "code",
   "execution_count": null,
   "id": "c9159e5e",
   "metadata": {},
   "outputs": [],
   "source": [
    "df_aeroports[df_aeroports['CODE IATA']=='JNB'] # => duplicate on JNB if no subset"
   ]
  },
  {
   "cell_type": "code",
   "execution_count": null,
   "id": "c5bdc557",
   "metadata": {},
   "outputs": [],
   "source": [
    "display(df_aeroports.head(20))\n",
    "display(df_aeroports.shape)"
   ]
  },
  {
   "cell_type": "code",
   "execution_count": null,
   "id": "434897da",
   "metadata": {},
   "outputs": [],
   "source": [
    "df_aeroports.info(show_counts=True) "
   ]
  },
  {
   "cell_type": "code",
   "execution_count": null,
   "id": "0bb57c21",
   "metadata": {},
   "outputs": [],
   "source": [
    "df_aeroports.nunique()"
   ]
  },
  {
   "cell_type": "code",
   "execution_count": null,
   "id": "798f79fd",
   "metadata": {},
   "outputs": [],
   "source": [
    "df_aeroports.describe()"
   ]
  },
  {
   "cell_type": "code",
   "execution_count": null,
   "id": "4d6b2aa4",
   "metadata": {},
   "outputs": [],
   "source": [
    "df_aeroports['LONGITUDE'] = df_aeroports['LONGITUDE'].astype('float')\n",
    "df_aeroports['LATITUDE'] = df_aeroports['LATITUDE'].astype('float')"
   ]
  },
  {
   "cell_type": "code",
   "execution_count": null,
   "id": "d91ce477",
   "metadata": {},
   "outputs": [],
   "source": [
    "df_aeroports['LONGITUDE TRONQUEE'] = df_aeroports['LONGITUDE'].apply(round)\n",
    "df_aeroports['LATITUDE TRONQUEE'] = df_aeroports['LATITUDE'].apply(round)"
   ]
  },
  {
   "cell_type": "markdown",
   "id": "dd950c28",
   "metadata": {},
   "source": [
    "#### Retour sur la df VOLS"
   ]
  },
  {
   "cell_type": "code",
   "execution_count": null,
   "id": "d7d57c35",
   "metadata": {},
   "outputs": [],
   "source": [
    "airport_dict = df_aeroports.set_index(\"CODE IATA\").to_dict(orient='index')"
   ]
  },
  {
   "cell_type": "code",
   "execution_count": null,
   "id": "18deb06d",
   "metadata": {},
   "outputs": [],
   "source": [
    "df_vols_eng.loc[:, 'PAYS DEPART'] = df_vols_eng['AEROPORT DEPART'].apply(lambda x: airport_dict.get(x)['PAYS'])\n",
    "df_vols_eng.loc[:, 'PAYS ARRIVEE'] = df_vols_eng['AEROPORT ARRIVEE'].apply(lambda x: airport_dict.get(x)['PAYS'])\n",
    "\n",
    "df_vols_eng.loc[:, 'HAUTEUR DEPART'] = df_vols_eng['AEROPORT DEPART'].apply(lambda x: airport_dict.get(x)['HAUTEUR'])\n",
    "df_vols_eng.loc[:, 'HAUTEUR ARRIVEE'] = df_vols_eng['AEROPORT ARRIVEE'].apply(lambda x: airport_dict.get(x)['HAUTEUR'])\n",
    "df_vols_eng.loc[:, 'LONGITUDE ARRIVEE'] = df_vols_eng['AEROPORT ARRIVEE'].apply(lambda x: airport_dict.get(x)['LONGITUDE TRONQUEE'])\n",
    "df_vols_eng.loc[:, 'LATITUDE ARRIVEE'] = df_vols_eng['AEROPORT ARRIVEE'].apply(lambda x: airport_dict.get(x)['LATITUDE TRONQUEE'])\n",
    "\n",
    "df_vols_eng.loc[:, 'PRIX RETARD PREMIERE 20 MINUTES'] = df_vols_eng['AEROPORT ARRIVEE'].apply(\n",
    "    lambda x: airport_dict.get(x)['PRIX RETARD PREMIERE 20 MINUTES'])\n",
    "df_vols_eng.loc[:, 'PRIS RETARD POUR CHAQUE MINUTE APRES 10 MINUTES'] = df_vols_eng['AEROPORT ARRIVEE'].apply(\n",
    "    lambda x: airport_dict.get(x)['PRIS RETARD POUR CHAQUE MINUTE APRES 10 MINUTES'])\n"
   ]
  },
  {
   "cell_type": "code",
   "execution_count": null,
   "id": "0f31ec86",
   "metadata": {},
   "outputs": [],
   "source": [
    "df_vols_eng"
   ]
  },
  {
   "cell_type": "code",
   "execution_count": null,
   "id": "6cef8709",
   "metadata": {
    "scrolled": false
   },
   "outputs": [],
   "source": [
    "for column in ['PAYS DEPART',\n",
    "               'PAYS ARRIVEE',\n",
    "               'HAUTEUR DEPART',\n",
    "               'HAUTEUR ARRIVEE',\n",
    "               'LONGITUDE ARRIVEE',\n",
    "               'LATITUDE ARRIVEE',\n",
    "               'PRIX RETARD PREMIERE 20 MINUTES',\n",
    "               'PRIS RETARD POUR CHAQUE MINUTE APRES 10 MINUTES'\n",
    "              ]:\n",
    "    print(column)\n",
    "    df_vols_eng[column].hist(figsize=(15,8), bins=100)\n",
    "    plt.show();"
   ]
  },
  {
   "cell_type": "code",
   "execution_count": null,
   "id": "34c5a586",
   "metadata": {
    "scrolled": false
   },
   "outputs": [],
   "source": [
    "df_vols_eng_smaller = df_vols_eng.sample(frac=0.1)\n",
    "\n",
    "for column in ['PAYS DEPART',\n",
    "               'PAYS ARRIVEE',\n",
    "               'HAUTEUR DEPART',\n",
    "               'HAUTEUR ARRIVEE',\n",
    "               'LONGITUDE ARRIVEE',\n",
    "               'LATITUDE ARRIVEE',\n",
    "               'PRIX RETARD PREMIERE 20 MINUTES',\n",
    "               'PRIS RETARD POUR CHAQUE MINUTE APRES 10 MINUTES']:\n",
    "    plt.close()\n",
    "    fig = plt.figure(figsize=(12,8))\n",
    "    ax = plt.axes()\n",
    "\n",
    "    plt.rcParams.update({'font.size': 15})\n",
    "\n",
    "    plt.scatter(df_vols_eng_smaller[column], df_vols_eng_smaller[\"RETARD A L'ARRIVEE\"],\n",
    "             c='#FF0000')\n",
    "\n",
    "    plt.title(f\"RETARD A L'ARRIVEE par {column}\", size=20, color=\"#000070\")\n",
    "\n",
    "    # Titres des axes\n",
    "    ax = ax.set(xlabel=column, ylabel=\"RETARD A L'ARRIVEE\")\n",
    "    plt.show()"
   ]
  },
  {
   "cell_type": "code",
   "execution_count": null,
   "id": "40afef6e",
   "metadata": {},
   "outputs": [],
   "source": []
  },
  {
   "cell_type": "markdown",
   "id": "f1bba06a",
   "metadata": {},
   "source": [
    "### Compagnies"
   ]
  },
  {
   "cell_type": "code",
   "execution_count": null,
   "id": "9198b5fb",
   "metadata": {
    "scrolled": false
   },
   "outputs": [],
   "source": [
    "df_compagnies1 = pd.concat([df_batch1['compagnies'], df_batch2['compagnies']]).drop_duplicates()\n",
    "display(df_compagnies1)\n",
    "display(df_compagnies1.shape)"
   ]
  },
  {
   "cell_type": "code",
   "execution_count": null,
   "id": "43ed372e",
   "metadata": {},
   "outputs": [],
   "source": []
  },
  {
   "cell_type": "code",
   "execution_count": null,
   "id": "f4d27408",
   "metadata": {},
   "outputs": [],
   "source": []
  },
  {
   "cell_type": "markdown",
   "id": "149f4fdc",
   "metadata": {},
   "source": [
    "### Prix du fuel"
   ]
  },
  {
   "cell_type": "code",
   "execution_count": null,
   "id": "4c8eada0",
   "metadata": {},
   "outputs": [],
   "source": []
  },
  {
   "cell_type": "markdown",
   "id": "7792717f",
   "metadata": {},
   "source": [
    "## Test"
   ]
  },
  {
   "cell_type": "code",
   "execution_count": null,
   "id": "f995213c",
   "metadata": {},
   "outputs": [],
   "source": [
    "df_test_vols"
   ]
  },
  {
   "cell_type": "code",
   "execution_count": null,
   "id": "1c6e315f",
   "metadata": {},
   "outputs": [],
   "source": [
    "df_test_vols_cleaned = data_cleaning.transform(df_test_vols)\n",
    "df_test_vols_cleaned.loc[:, 'DATE'] = pd.to_datetime(df_test_vols_cleaned['DATE'])"
   ]
  },
  {
   "cell_type": "code",
   "execution_count": null,
   "id": "ce6afba3",
   "metadata": {},
   "outputs": [],
   "source": []
  },
  {
   "cell_type": "code",
   "execution_count": null,
   "id": "f2a4d6d0",
   "metadata": {},
   "outputs": [],
   "source": []
  },
  {
   "cell_type": "code",
   "execution_count": null,
   "id": "79349c3c",
   "metadata": {},
   "outputs": [],
   "source": []
  },
  {
   "cell_type": "code",
   "execution_count": null,
   "id": "278ed1da",
   "metadata": {},
   "outputs": [],
   "source": []
  },
  {
   "cell_type": "markdown",
   "id": "57bd7ade",
   "metadata": {},
   "source": [
    "# DATAVIZ"
   ]
  },
  {
   "cell_type": "code",
   "execution_count": null,
   "id": "6861fe96",
   "metadata": {},
   "outputs": [],
   "source": []
  },
  {
   "cell_type": "code",
   "execution_count": null,
   "id": "89d91c71",
   "metadata": {},
   "outputs": [],
   "source": []
  },
  {
   "cell_type": "code",
   "execution_count": null,
   "id": "ed40f519",
   "metadata": {},
   "outputs": [],
   "source": []
  }
 ],
 "metadata": {
  "kernelspec": {
   "display_name": "Python 3",
   "language": "python",
   "name": "python3"
  },
  "language_info": {
   "codemirror_mode": {
    "name": "ipython",
    "version": 3
   },
   "file_extension": ".py",
   "mimetype": "text/x-python",
   "name": "python",
   "nbconvert_exporter": "python",
   "pygments_lexer": "ipython3",
   "version": "3.8.6"
  }
 },
 "nbformat": 4,
 "nbformat_minor": 5
}
