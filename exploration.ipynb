{
 "cells": [
  {
   "cell_type": "code",
   "execution_count": 1,
   "metadata": {},
   "outputs": [
    {
     "name": "stdout",
     "output_type": "stream",
     "text": [
      "test\n"
     ]
    }
   ],
   "source": [
    "print('test')"
   ]
  },
  {
   "cell_type": "code",
   "execution_count": 2,
   "metadata": {},
   "outputs": [],
   "source": [
    "from certifia.data_engineering.data_access import read_db"
   ]
  },
  {
   "cell_type": "code",
   "execution_count": 3,
   "metadata": {},
   "outputs": [],
   "source": [
    "datasets = read_db()"
   ]
  },
  {
   "cell_type": "code",
   "execution_count": 5,
   "metadata": {},
   "outputs": [
    {
     "data": {
      "text/plain": [
       "dict_keys(['batch1', 'batch2', 'test'])"
      ]
     },
     "execution_count": 5,
     "metadata": {},
     "output_type": "execute_result"
    }
   ],
   "source": [
    "datasets.keys()"
   ]
  },
  {
   "cell_type": "code",
   "execution_count": 12,
   "metadata": {},
   "outputs": [],
   "source": [
    "df_batch1 = datasets['batch1']\n",
    "df_batch2 = datasets['batch2']\n",
    "df_test = datasets['test']"
   ]
  },
  {
   "cell_type": "code",
   "execution_count": 21,
   "metadata": {},
   "outputs": [
    {
     "data": {
      "text/plain": [
       "Index(['IDENTIFIANT', 'VOL', 'CODE AVION', 'AEROPORT DEPART',\n",
       "       'AEROPORT ARRIVEE', 'DEPART PROGRAMME',\n",
       "       'TEMPS DE DEPLACEMENT A TERRE AU DECOLLAGE', 'TEMPS PROGRAMME',\n",
       "       'DISTANCE', 'TEMPS DE DEPLACEMENT A TERRE A L'ATTERRISSAGE',\n",
       "       'ARRIVEE PROGRAMMEE', 'COMPAGNIE AERIENNE', 'NOMBRE DE PASSAGERS',\n",
       "       'DATE', 'NIVEAU DE SECURITE'],\n",
       "      dtype='object')"
      ]
     },
     "execution_count": 21,
     "metadata": {},
     "output_type": "execute_result"
    }
   ],
   "source": [
    "df_test['vols'].columns"
   ]
  },
  {
   "cell_type": "code",
   "execution_count": 23,
   "metadata": {},
   "outputs": [
    {
     "data": {
      "text/plain": [
       "0         1358\n",
       "1         1912\n",
       "2          970\n",
       "3         2945\n",
       "4         1399\n",
       "          ... \n",
       "999995    2977\n",
       "999996    4752\n",
       "999997    2841\n",
       "999998    2474\n",
       "999999     438\n",
       "Name: VOL, Length: 1000000, dtype: int64"
      ]
     },
     "execution_count": 23,
     "metadata": {},
     "output_type": "execute_result"
    }
   ],
   "source": [
    "df_test['vols'].VOL"
   ]
  },
  {
   "cell_type": "code",
   "execution_count": 13,
   "metadata": {},
   "outputs": [
    {
     "data": {
      "text/plain": [
       "(dict_keys(['vols', 'aeroports', 'compagnies', 'prix_fuel']),\n",
       " dict_keys(['vols', 'aeroports', 'compagnies', 'prix_fuel']),\n",
       " dict_keys(['vols']))"
      ]
     },
     "execution_count": 13,
     "metadata": {},
     "output_type": "execute_result"
    }
   ],
   "source": [
    "df_batch1.keys(), df_batch2.keys(), df_test.keys()"
   ]
  },
  {
   "cell_type": "code",
   "execution_count": 22,
   "metadata": {},
   "outputs": [
    {
     "data": {
      "text/plain": [
       "Index(['IDENTIFIANT', 'VOL', 'CODE AVION', 'AEROPORT DEPART',\n",
       "       'AEROPORT ARRIVEE', 'DEPART PROGRAMME', 'HEURE DE DEPART',\n",
       "       'RETART DE DEPART', 'TEMPS DE DEPLACEMENT A TERRE AU DECOLLAGE',\n",
       "       'DECOLLAGE', 'TEMPS PROGRAMME', 'TEMPS PASSE', 'TEMPS DE VOL',\n",
       "       'DISTANCE', 'ATTERRISSAGE',\n",
       "       'TEMPS DE DEPLACEMENT A TERRE A L'ATTERRISSAGE', 'ARRIVEE PROGRAMMEE',\n",
       "       'HEURE D'ARRIVEE', 'RETARD A L'ARRIVEE', 'DETOURNEMENT', 'ANNULATION',\n",
       "       'RAISON D'ANNULATION', 'RETARD SYSTEM', 'RETARD SECURITE',\n",
       "       'RETARD COMPAGNIE', 'RETARD AVION', 'RETARD METEO',\n",
       "       'COMPAGNIE AERIENNE', 'NOMBRE DE PASSAGERS', 'DATE',\n",
       "       'NIVEAU DE SECURITE'],\n",
       "      dtype='object')"
      ]
     },
     "execution_count": 22,
     "metadata": {},
     "output_type": "execute_result"
    }
   ],
   "source": [
    "df_batch1['vols'].columns"
   ]
  },
  {
   "cell_type": "code",
   "execution_count": 17,
   "metadata": {},
   "outputs": [
    {
     "data": {
      "text/plain": [
       "Index(['DATE', 'PRIX DU BARIL'], dtype='object')"
      ]
     },
     "execution_count": 17,
     "metadata": {},
     "output_type": "execute_result"
    }
   ],
   "source": [
    "df_batch1['prix_fuel'].columns"
   ]
  },
  {
   "cell_type": "code",
   "execution_count": 18,
   "metadata": {},
   "outputs": [
    {
     "data": {
      "text/plain": [
       "Index(['DATE', 'PRIX DU BARIL'], dtype='object')"
      ]
     },
     "execution_count": 18,
     "metadata": {},
     "output_type": "execute_result"
    }
   ],
   "source": [
    "df_batch2['prix_fuel'].columns"
   ]
  }
 ],
 "metadata": {
  "kernelspec": {
   "display_name": "Python 3",
   "language": "python",
   "name": "python3"
  },
  "language_info": {
   "codemirror_mode": {
    "name": "ipython",
    "version": 3
   },
   "file_extension": ".py",
   "mimetype": "text/x-python",
   "name": "python",
   "nbconvert_exporter": "python",
   "pygments_lexer": "ipython3",
   "version": "3.9.0"
  },
  "pycharm": {
   "stem_cell": {
    "cell_type": "raw",
    "metadata": {
     "collapsed": false
    },
    "source": []
   }
  }
 },
 "nbformat": 4,
 "nbformat_minor": 1
}
